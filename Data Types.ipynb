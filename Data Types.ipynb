{
 "cells": [
  {
   "cell_type": "markdown",
   "id": "a4ea0d43",
   "metadata": {},
   "source": [
    "### Group 5\n",
    "\n",
    "- Dela Adoboe\n",
    "- Derllene Nana Yaa Kwansa\n",
    "- Akua Asiedu\n",
    "- Ubeida Zakariah\n",
    "- David Adu-Baah"
   ]
  },
  {
   "cell_type": "markdown",
   "id": "1971db0e",
   "metadata": {},
   "source": [
    "### Q1\n",
    "List the basic data types in python and give one example each."
   ]
  },
  {
   "cell_type": "markdown",
   "id": "0a28b87d",
   "metadata": {},
   "source": [
    "### There are four basic data types:\n",
    "\n",
    "- String eg \"Group 5\"\n",
    "- Integer eg 4\n",
    "- Float eg 5.0\n",
    "- Boolean eg True\n"
   ]
  },
  {
   "cell_type": "markdown",
   "id": "4a2be5ba",
   "metadata": {},
   "source": [
    "### Q2\n",
    "Change the variable x = 4539.85 to :\n",
    "\n",
    "(i) a string and assign it to a new variable y,\n",
    "\n",
    "(ii) an integer and assign it to a new variable z\n",
    "\n",
    "Print out the type of y and z."
   ]
  },
  {
   "cell_type": "code",
   "execution_count": 7,
   "id": "4f69aaca",
   "metadata": {
    "scrolled": true
   },
   "outputs": [
    {
     "name": "stdout",
     "output_type": "stream",
     "text": [
      "<class 'str'>\n",
      "<class 'int'>\n"
     ]
    }
   ],
   "source": [
    "x = 4539.85\n",
    "y = str(x)\n",
    "z = int(x)\n",
    "\n",
    "print(type(y))\n",
    "print(type(z))"
   ]
  },
  {
   "cell_type": "markdown",
   "id": "81a1251c",
   "metadata": {},
   "source": [
    "### Q3\n",
    "\n",
    "What data type would you use to store\n",
    "\n",
    "a. The price of car?\n",
    "\n",
    "b. The age of a person\n",
    "\n",
    "c. car plate number: plateNumber = \"AV01-AFP\"?\n",
    "\n",
    "d. The price of fuel\n",
    "\n",
    "e. The number of students in the class\n",
    "\n",
    "f. The weight of a person\n",
    "\n",
    "g. Check whether two figures are equal\n",
    "\n",
    "i. The name of a  school\n",
    "\n",
    "j. The average result of the overall score of a student\n",
    "\n",
    "k. The total number of vote cast\n",
    "\n"
   ]
  },
  {
   "cell_type": "markdown",
   "id": "b4aa48a6",
   "metadata": {},
   "source": [
    "### Answers\n",
    "\n",
    "a. Float\n",
    "\n",
    "b. Integer\n",
    "\n",
    "c. String\n",
    "\n",
    "d. Float\n",
    "\n",
    "e. Integer\n",
    "\n",
    "f. Float\n",
    "\n",
    "g. Boolean\n",
    "\n",
    "i. String\n",
    "\n",
    "j. Float\n",
    "\n",
    "k. Integer"
   ]
  },
  {
   "cell_type": "markdown",
   "id": "f0694362",
   "metadata": {},
   "source": [
    "### Q4\n",
    "**Thomas Partey is arguably the best player in the Black Stars. He is a great addition to the team**\n",
    "\n",
    "Split the statement above into **two statement_1** and **statement_2** such that statement_1 will be 'Thomas Partey is arguably the best player in the Black Stars' and statement_2 will be 'He is a great addition to the team'\n",
    "\n",
    "Statement:\n",
    "\n",
    "- **What is the length of statment 1?**\n",
    "-**What is the length of statment 2?**\n",
    "-**Is the length of statement 1 greater than statement 2**"
   ]
  },
  {
   "cell_type": "code",
   "execution_count": 13,
   "id": "16ada8a6",
   "metadata": {},
   "outputs": [
    {
     "name": "stdout",
     "output_type": "stream",
     "text": [
      "The length of statement_1 is 60\n",
      "The length of statement_2 is 34\n",
      "Is the length of statement 1 greater than statement 2? True\n"
     ]
    }
   ],
   "source": [
    "statement_1 = \"Thomas Partey is arguably the best player in the Black Stars\"\n",
    "statement_2 = \"He is a great addition to the team\"\n",
    "\n",
    "s1_len = len(statement_1)\n",
    "s2_len = len(statement_2)\n",
    "\n",
    "print(\"The length of statement_1 is\", s1_len)\n",
    "print(\"The length of statement_2 is\", s2_len)\n",
    "\n",
    "print(\"Is the length of statement 1 greater than statement 2?\", s1_len > s2_len)"
   ]
  },
  {
   "cell_type": "markdown",
   "id": "ceb46447",
   "metadata": {},
   "source": [
    "### Q5\n",
    "What values does python use to represent **True** and **False** respectively?"
   ]
  },
  {
   "cell_type": "markdown",
   "id": "4f87a4c7",
   "metadata": {},
   "source": [
    "True = 1\n",
    "False = 0"
   ]
  },
  {
   "cell_type": "markdown",
   "id": "e4cc9b15",
   "metadata": {},
   "source": [
    "### Q6\n",
    "Write a code to evaluate if the following statments are True or False.\n",
    "\n",
    "1. 78 is greater than 46 and less than 30 which is an odd number.\n",
    "\n",
    "2. 8-2 is an even number or 8 is a is an odd number.\n",
    "\n",
    "3. The number of characters in the word 'boostrap' is 7 and that of 'sample' is 6."
   ]
  },
  {
   "cell_type": "code",
   "execution_count": 14,
   "id": "656a9b5f",
   "metadata": {},
   "outputs": [
    {
     "name": "stdout",
     "output_type": "stream",
     "text": [
      "False\n",
      "True\n",
      "False\n"
     ]
    }
   ],
   "source": [
    "q1 = (78>46) and (78<30) and 30%2 != 0\n",
    "q2 = (8-2)%2 == 0 or 8%2 != 0\n",
    "q3 = len(\"boostrap\")==7 and len(\"sample\")==6\n",
    "\n",
    "print(q1)\n",
    "print(q2)\n",
    "print(q3)"
   ]
  },
  {
   "cell_type": "markdown",
   "id": "bc13f9fc",
   "metadata": {},
   "source": [
    "### Q7\n",
    "Given the following python code,\n",
    "\n",
    "`word='Hello, How are you?'`\n",
    "\n",
    "Write Python code to return the following\n",
    "\n",
    "- How\n",
    "- How are you\n",
    "- are\n",
    "- ?\n",
    "- Hello, How are you\n",
    "\n",
    "\n",
    " "
   ]
  },
  {
   "cell_type": "code",
   "execution_count": 28,
   "id": "dd7eeb47",
   "metadata": {},
   "outputs": [
    {
     "name": "stdout",
     "output_type": "stream",
     "text": [
      "How\n",
      "How are you\n",
      "are\n",
      "?\n",
      "Hello, How are you\n"
     ]
    }
   ],
   "source": [
    "word = \"Hello, How are you?\"\n",
    "\n",
    "word_1 = word[7:10]\n",
    "word_2 = word[7:-1]\n",
    "word_3 = word[11:-5]\n",
    "word_4 = word[-1]\n",
    "word_5 = word[0:-1]\n",
    "\n",
    "print(word_1)\n",
    "print(word_2)\n",
    "print(word_3)\n",
    "print(word_4)\n",
    "print(word_5)"
   ]
  },
  {
   "cell_type": "markdown",
   "id": "e4167de5",
   "metadata": {},
   "source": [
    "### Q8\n",
    "Given the following python code,\n",
    "\n",
    "`sentence = \"I am very excited\"`\n",
    "\n",
    "Write Python code to return \n",
    "- Convert sentence to upper case\n",
    "- Convert sentence to lower case\n",
    "- Convert sentence to title case\n",
    "- Convert sentence to list of strings\n",
    " "
   ]
  },
  {
   "cell_type": "code",
   "execution_count": 33,
   "id": "64c502cf",
   "metadata": {},
   "outputs": [
    {
     "name": "stdout",
     "output_type": "stream",
     "text": [
      "I AM VERY EXCITED\n",
      "i am very excited\n",
      "I Am Very Excited\n",
      "['I', 'am', 'very', 'excited']\n"
     ]
    }
   ],
   "source": [
    "sentence = \"I am very excited\"\n",
    "\n",
    "upper_case = sentence.upper()\n",
    "lower_case = sentence.lower()\n",
    "title_case = sentence.title()\n",
    "string_list = sentence.split()\n",
    "\n",
    "print(upper_case)\n",
    "print(lower_case)\n",
    "print(title_case)\n",
    "print(string_list)"
   ]
  },
  {
   "cell_type": "markdown",
   "id": "4faf0134",
   "metadata": {},
   "source": [
    "### Q9\n",
    "`word = 'OneThirtyEight'`\n",
    "\n",
    "Using Python code extract the following from the variable word:\n",
    "- One\n",
    "- Thirty\n",
    "- Eight\n",
    "- OneThirty\n",
    "- ThirtyEight\n",
    "- ONETHIRTYEIGHT"
   ]
  },
  {
   "cell_type": "code",
   "execution_count": 35,
   "id": "3c0d2e9a",
   "metadata": {},
   "outputs": [
    {
     "name": "stdout",
     "output_type": "stream",
     "text": [
      "One\n",
      "Thirty\n",
      "Eight\n",
      "OneThirty\n",
      "ThirtyEight\n",
      "ONETHIRTYEIGHT\n"
     ]
    }
   ],
   "source": [
    "word = \"OneThirtyEight\"\n",
    "\n",
    "word_1 = word[:3]\n",
    "word_2 = word[3:9]\n",
    "word_3 = word[9:]\n",
    "word_4 = word[:9]\n",
    "word_5 = word[3:]\n",
    "word_6 = word.upper()\n",
    "\n",
    "print(word_1)\n",
    "print(word_2)\n",
    "print(word_3)\n",
    "print(word_4)\n",
    "print(word_5)\n",
    "print(word_6)\n"
   ]
  },
  {
   "cell_type": "markdown",
   "id": "2a4eea1f",
   "metadata": {},
   "source": [
    "### Q10\n",
    "Turn Ault'Kelly into a string and assign it to a variable  called name."
   ]
  },
  {
   "cell_type": "code",
   "execution_count": 36,
   "id": "aa2f0a08",
   "metadata": {},
   "outputs": [
    {
     "name": "stdout",
     "output_type": "stream",
     "text": [
      "Ault'Kelly\n"
     ]
    }
   ],
   "source": [
    "name = \"Ault'Kelly\"\n",
    "\n",
    "print(name)"
   ]
  },
  {
   "cell_type": "code",
   "execution_count": null,
   "id": "966d9b22",
   "metadata": {},
   "outputs": [],
   "source": []
  }
 ],
 "metadata": {
  "kernelspec": {
   "display_name": "Python 3 (ipykernel)",
   "language": "python",
   "name": "python3"
  },
  "language_info": {
   "codemirror_mode": {
    "name": "ipython",
    "version": 3
   },
   "file_extension": ".py",
   "mimetype": "text/x-python",
   "name": "python",
   "nbconvert_exporter": "python",
   "pygments_lexer": "ipython3",
   "version": "3.10.8"
  }
 },
 "nbformat": 4,
 "nbformat_minor": 5
}
